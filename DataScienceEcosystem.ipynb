{
 "cells": [
  {
   "cell_type": "markdown",
   "id": "516a42dc",
   "metadata": {},
   "source": [
    "# Data Science Tools and Ecosystems"
   ]
  },
  {
   "cell_type": "markdown",
   "id": "a0b7c4dd",
   "metadata": {},
   "source": [
    "## In this notebook, Data Science Tools and Ecosystem are summarized"
   ]
  },
  {
   "cell_type": "markdown",
   "id": "22b1491c",
   "metadata": {},
   "source": [
    "## Objectives:"
   ]
  },
  {
   "cell_type": "markdown",
   "id": "4b21ebf5",
   "metadata": {},
   "source": [
    "1. List popular Data Science Languages\n",
    "2. List Data Science libraries\n",
    "3. List Data Science tools\n",
    "4. Evaluate an arithmetic expression\n",
    "5. Create a code cell to multiply and add numbers\n",
    "6. Create a code cell to convert minutes to hours"
   ]
  },
  {
   "cell_type": "markdown",
   "id": "a8edb4ff",
   "metadata": {},
   "source": [
    "### Some of the popular languages of data science are:"
   ]
  },
  {
   "cell_type": "markdown",
   "id": "6857bf95",
   "metadata": {},
   "source": [
    "1. Python\n",
    "2. R Programming\n",
    "3. SQL"
   ]
  },
  {
   "cell_type": "markdown",
   "id": "6c5530ad",
   "metadata": {},
   "source": [
    "### Some of the commonly used libraries used by Data Scientists include:"
   ]
  },
  {
   "cell_type": "markdown",
   "id": "bc345e5d",
   "metadata": {},
   "source": [
    "1. Scientific (such as Pandas & NumPy; Scala - Vegas)\n",
    "2. Visualization (Python - Matplotlib and Seaborn; R - ggplot2)\n",
    "3. Machine Learning (such as Scikit-learn and Keras)\n",
    "4. Deep Learning (such as TensorFlow and PyTorch; Scala - BigDL)"
   ]
  },
  {
   "cell_type": "markdown",
   "id": "74c35f3f",
   "metadata": {},
   "source": [
    "### Create a markdown cell with a table of Data Science tools"
   ]
  },
  {
   "cell_type": "markdown",
   "id": "327f2a26",
   "metadata": {},
   "source": [
    "| Data Science Tool |\n",
    "| ----------------- |\n",
    "|      MySQL        |\n",
    "|    PostgreSQL     |\n",
    "|      NoSQL        |"
   ]
  },
  {
   "cell_type": "markdown",
   "id": "3bb580bd",
   "metadata": {},
   "source": [
    "### Below are a few examples of evaluating arithmetic expressions in Python"
   ]
  },
  {
   "cell_type": "code",
   "execution_count": 12,
   "id": "964930b8",
   "metadata": {},
   "outputs": [
    {
     "name": "stdout",
     "output_type": "stream",
     "text": [
      "15\n"
     ]
    }
   ],
   "source": [
    "x = 5\n",
    "y = 10\n",
    "print(x + y)"
   ]
  },
  {
   "cell_type": "code",
   "execution_count": 13,
   "id": "bd80df2e",
   "metadata": {},
   "outputs": [
    {
     "name": "stdout",
     "output_type": "stream",
     "text": [
      "40\n"
     ]
    }
   ],
   "source": [
    "x = 150\n",
    "y = 110\n",
    "print(x - y)"
   ]
  },
  {
   "cell_type": "code",
   "execution_count": 14,
   "id": "9aaf4bd9",
   "metadata": {},
   "outputs": [
    {
     "name": "stdout",
     "output_type": "stream",
     "text": [
      "36000\n"
     ]
    }
   ],
   "source": [
    "x = 12000\n",
    "y = 3\n",
    "print(x * y)"
   ]
  },
  {
   "cell_type": "code",
   "execution_count": 15,
   "id": "c8792215",
   "metadata": {},
   "outputs": [
    {
     "name": "stdout",
     "output_type": "stream",
     "text": [
      "3.0\n"
     ]
    }
   ],
   "source": [
    "x = 15\n",
    "y = 5\n",
    "print(x / y)"
   ]
  },
  {
   "cell_type": "markdown",
   "id": "e054abdf",
   "metadata": {},
   "source": [
    "###  This a simple arithmetic expression to mutiply then add integers"
   ]
  },
  {
   "cell_type": "code",
   "execution_count": 17,
   "id": "2c20edad",
   "metadata": {
    "scrolled": true
   },
   "outputs": [
    {
     "name": "stdout",
     "output_type": "stream",
     "text": [
      "17\n"
     ]
    }
   ],
   "source": [
    "print((3*4)+5)"
   ]
  },
  {
   "cell_type": "markdown",
   "id": "1ef16369",
   "metadata": {},
   "source": [
    "### This will convert 200 minutes to hours by dividng by 60"
   ]
  },
  {
   "cell_type": "code",
   "execution_count": 19,
   "id": "fea4a572",
   "metadata": {},
   "outputs": [
    {
     "name": "stdout",
     "output_type": "stream",
     "text": [
      "3.3333333333333335 hours\n"
     ]
    }
   ],
   "source": [
    "minutes = 200\n",
    "hours = (minutes/60)\n",
    "print(hours, \"hours\")"
   ]
  },
  {
   "cell_type": "markdown",
   "id": "dd8140b4",
   "metadata": {},
   "source": [
    "## Author"
   ]
  },
  {
   "cell_type": "markdown",
   "id": "f1ca8f88",
   "metadata": {},
   "source": [
    "Terry Jones"
   ]
  },
  {
   "cell_type": "code",
   "execution_count": null,
   "id": "7ff1df41",
   "metadata": {},
   "outputs": [],
   "source": []
  }
 ],
 "metadata": {
  "kernelspec": {
   "display_name": "Python 3",
   "language": "python",
   "name": "python3"
  },
  "language_info": {
   "codemirror_mode": {
    "name": "ipython",
    "version": 3
   },
   "file_extension": ".py",
   "mimetype": "text/x-python",
   "name": "python",
   "nbconvert_exporter": "python",
   "pygments_lexer": "ipython3",
   "version": "3.8.8"
  }
 },
 "nbformat": 4,
 "nbformat_minor": 5
}
